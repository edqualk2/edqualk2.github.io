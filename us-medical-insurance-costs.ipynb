{
 "cells": [
  {
   "cell_type": "markdown",
   "metadata": {},
   "source": [
    "# U.S. Medical Insurance Costs\n",
    "> Author: Edgar Qualkenbush, II <br>\n",
    "> Date: Oct. 4, 2022\n",
    "***"
   ]
  },
  {
   "cell_type": "markdown",
   "metadata": {},
   "source": [
    "## Goals of Project\n",
    "1. Ask\n",
    "1. Prepare\n",
    "1. Process\n",
    "1. Analyze\n",
    "1. Act\n",
    "***"
   ]
  },
  {
   "cell_type": "markdown",
   "metadata": {},
   "source": [
    "### Ask\n",
    "The purpose of this case study is to research and analyze insurance cost in the U.S. as provided and initially from codecademy <br>\n",
    "Original .csv file is provided in this GitHub repository as well\n",
    "<br>\n",
    "For this study, I initially did not have any questions to ask, so I felt a need to look at what data was provided first to brain storm questions that could be answered with the data set"
   ]
  },
  {
   "cell_type": "markdown",
   "metadata": {},
   "source": [
    "Below are the libraries I felt were necessary to import for this study\n",
    "1. pandas - this was initally used to import the .csv file into a workable dataframe"
   ]
  },
  {
   "cell_type": "code",
   "execution_count": 1,
   "metadata": {},
   "outputs": [],
   "source": [
    "import pandas as pd"
   ]
  },
  {
   "cell_type": "code",
   "execution_count": 7,
   "metadata": {},
   "outputs": [
    {
     "name": "stdout",
     "output_type": "stream",
     "text": [
      "   age     sex     bmi  children smoker     region      charges\n",
      "0   19  female  27.900         0    yes  southwest  16884.92400\n",
      "1   18    male  33.770         1     no  southeast   1725.55230\n",
      "2   28    male  33.000         3     no  southeast   4449.46200\n",
      "3   33    male  22.705         0     no  northwest  21984.47061\n",
      "4   32    male  28.880         0     no  northwest   3866.85520\n",
      "(1338, 7)\n"
     ]
    }
   ],
   "source": [
    "insurance = pd.read_csv('insurance.csv')\n",
    "print(insurance.head())\n",
    "print(insurance.shape)"
   ]
  },
  {
   "cell_type": "markdown",
   "metadata": {},
   "source": [
    "***\n",
    "From the dataframe, there are a couple questions we could ask:\n",
    "1. How do any of the variable impact the charges?\n",
    "1. Are there any correlations between any stat? If so, which are the strongest indicators?\n",
    "\n",
    "Initially, I will only focus on region and smoker status impact on charges <br>\n",
    "As the data starts to become clearer to me, I may change my focus"
   ]
  },
  {
   "cell_type": "markdown",
   "metadata": {},
   "source": [
    "### Prepare\n",
    "Preparation for the data was completed above as I needed to look at the data in a dataframe to figure out what could be gleaned from it <br>\n",
    "What is known now:\n",
    "1. The data was downloaded from a module in the Data Scientist: Analytics Specialist Pro Career Path from codecademy.com\n",
    "1. The data is a simple 1338 x 7 table\n",
    "1. Since the purpose of this data set is for practice purposes, the data is credible "
   ]
  }
 ],
 "metadata": {
  "kernelspec": {
   "display_name": "Python 3.9.1 64-bit",
   "language": "python",
   "name": "python3"
  },
  "language_info": {
   "codemirror_mode": {
    "name": "ipython",
    "version": 3
   },
   "file_extension": ".py",
   "mimetype": "text/x-python",
   "name": "python",
   "nbconvert_exporter": "python",
   "pygments_lexer": "ipython3",
   "version": "3.9.1"
  },
  "vscode": {
   "interpreter": {
    "hash": "825839eb4388f639078e925b47c08522299e09b36783800d78743e4e416c36f5"
   }
  }
 },
 "nbformat": 4,
 "nbformat_minor": 4
}
